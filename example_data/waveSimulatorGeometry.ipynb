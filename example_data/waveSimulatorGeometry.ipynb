{
 "cells": [
  {
   "cell_type": "code",
   "execution_count": 87,
   "id": "f0794469",
   "metadata": {},
   "outputs": [],
   "source": [
    "import numpy as np\n",
    "from matplotlib import pyplot as plt\n",
    "from PIL import Image\n"
   ]
  },
  {
   "cell_type": "code",
   "execution_count": 88,
   "id": "95fc2368",
   "metadata": {},
   "outputs": [],
   "source": [
    "def aperture(height,width,apHorz,apVert,apWidth,apRad):\n",
    "    scene = np.zeros((height,width,3))\n",
    "    scenex = np.arange(0,width,1)\n",
    "     \n",
    "    apMag = 255\n",
    "    \n",
    "    scene[:,apHorz - apWidth:apHorz + apWidth,2] = apMag\n",
    "    scene[:,:,2] += apMag * np.exp(-((scenex-apHorz)/(apWidth * 2))**2)\n",
    "\n",
    "    scene[apVert-apRad:apVert+apRad,:,2] = 0\n",
    "    scene = scene.astype(\"uint8\")\n",
    "    return scene\n",
    "\n"
   ]
  },
  {
   "cell_type": "code",
   "execution_count": 89,
   "id": "cd40c205",
   "metadata": {},
   "outputs": [],
   "source": [
    "def solve_R1(f, R2, d, n):\n",
    "    \"\"\"\n",
    "    Solve for R1 given focal length f, R2, thickness d, and refractive index n.\n",
    "    \"\"\"\n",
    "    numerator = 1 + ((n - 1) * d) / (n * R2)\n",
    "    denominator = (1 / (f * (n - 1))) + (1 / R2)\n",
    "    R1 = numerator / denominator\n",
    "    return R1"
   ]
  },
  {
   "cell_type": "code",
   "execution_count": 90,
   "id": "bf2f96cf",
   "metadata": {},
   "outputs": [],
   "source": [
    "import numpy as np\n",
    "import matplotlib.pyplot as plt\n",
    "\n",
    "def generate_lens(array_height, array_width, rad1, rad2, cx, cy, clength):\n",
    "    \"\"\"\n",
    "    Generate a circular segment with a specified radius, height, and flat-face x-location.\n",
    "    \n",
    "    Parameters:\n",
    "        array_height (int): Height of the 2D output array.\n",
    "        array_width (int): Width of the 2D output array.\n",
    "        radius (float): Radius of the parent circle.\n",
    "        height (float): Height of the circular segment.\n",
    "        flat_x (float): x-coordinate of the flat face.\n",
    "        center_y (float): Vertical center of the circle.\n",
    "\n",
    "    Returns:\n",
    "        np.ndarray: 2D binary mask of the segment.\n",
    "    \"\"\"\n",
    "    #distance from center to chord which defines the segment\n",
    "    apothem1 = np.sqrt(rad1**2 - (clength**2/4))\n",
    "    apothem2 = np.sqrt(rad2**2 - (clength**2/4))\n",
    "    #distance from the segment defining chord and the arc\n",
    "    sagitta1 = np.abs(rad1) - apothem1\n",
    "    sagitta2 = np.abs(rad2) - apothem2\n",
    "\n",
    "    y, x = np.ogrid[:array_height, :array_width]\n",
    "    \n",
    "    # Create full circle mask\n",
    "    mask1 = (x - cx)**2 + (y - cy)**2 <= rad1**2\n",
    "    mask2 = (x - cx)**2 + (y - cy)**2 <= rad2**2\n",
    "\n",
    "    # Mask only the segment (cut at flat_x)\n",
    "    mask1 &= x <= cx - apothem1\n",
    "    mask2 &= x >= cx + apothem2\n",
    "\n",
    "    if rad1 < 0:\n",
    "        #the rectangular region containing our lens\n",
    "        bottom1 = int(cy -(clength/2))\n",
    "        top1 = int(cy + (clength/2))\n",
    "        left1 = int(cx - np.abs(rad1))\n",
    "        right1 = int(cx - apothem1)\n",
    "\n",
    "        region1 = mask1[bottom1:top1,left1:right1]\n",
    "        mask1[bottom1:top1,left1:right1] = ~np.flip(region1,axis=1)\n",
    "    \n",
    "    if rad2 > 0:\n",
    "        #the rectangular region containing our lens\n",
    "        bottom2 = int(cy -(clength/2))\n",
    "        top2 = int(cy + (clength/2))\n",
    "        left2 = int(cx + apothem2 + 1)\n",
    "        right2 = int(cx + apothem2 + sagitta2 + 1)\n",
    "\n",
    "        region2 = mask2[bottom2:top2,left2:right2]\n",
    "        mask2[bottom2:top2,left2:right2] = ~np.flip(region2,axis=1)\n",
    "\n",
    "    \n",
    "    #shift the lefthand segment so that its flat meets the right segments flat\n",
    "    mask2 = np.roll(mask2,int( -apothem2 - apothem1 -1),axis = 1)\n",
    "\n",
    "    mask = mask1 + mask2\n",
    "\n",
    "    #determine the distance betwen the two surface vertices\n",
    "    optAxisSlice = mask[int(array_height/2),:]\n",
    "    padded = np.pad(optAxisSlice,(1,1), mode = 'constant', constant_values = False)\n",
    "    diffs = np.diff(padded.astype(int))\n",
    "    leftVertex = np.where(diffs == 1)[0]\n",
    "    rightVertex = np.where(diffs == -1)[0]\n",
    "\n",
    "    thickness = rightVertex[0] - leftVertex[0]\n",
    "    #move the lens so the left vertex falls on the center point\n",
    "    mask = np.roll(mask,cx - leftVertex,axis = 1)\n",
    "    leftVertex = cx\n",
    "    rightVertex = cx + thickness\n",
    "\n",
    "\n",
    "\n",
    "\n",
    "    return mask.astype(np.uint8),[int(leftVertex),int(rightVertex)]\n",
    "\n",
    "#calculate the indices of the principle points of the lens\n",
    "#these are what you will calculate the focal plane from \n",
    "def principlePoints(n,f,d,rad1,rad2,leftVertex,rightVertex):\n",
    "    front = leftVertex -f * (n-1) * d / (rad2 * n)\n",
    "    back = rightVertex -f * (n-2) * d / (rad1 * n)\n",
    "\n",
    "    return [front,back]\n",
    "\n"
   ]
  },
  {
   "cell_type": "code",
   "execution_count": 94,
   "id": "8e3b0ce2",
   "metadata": {},
   "outputs": [
    {
     "name": "stdout",
     "output_type": "stream",
     "text": [
      "lens 1 vertices:  [300, 515]  thickness:  215\n",
      "lens 2 vertices:  [960, 1019]  thickness:  59\n",
      "Solved R11: 254.074 \n",
      "solved R12: 95.829 \n",
      "741.6139657444005\n",
      "1621.6139657444005\n"
     ]
    },
    {
     "data": {
      "text/plain": [
       "<matplotlib.image.AxesImage at 0x1ff31b57f90>"
      ]
     },
     "execution_count": 94,
     "metadata": {},
     "output_type": "execute_result"
    },
    {
     "data": {
      "image/png": "[encoded data removed]",
      "text/plain": [
       "<Figure size 640x480 with 1 Axes>"
      ]
     },
     "metadata": {},
     "output_type": "display_data"
    }
   ],
   "source": [
    "# Example usage\n",
    "sceneHeight = 1080\n",
    "sceneWidth = 1920\n",
    "lens1X = 300\n",
    "\n",
    "lensHeight1 = 500\n",
    "f1 = 800 \n",
    "R11 = 253  #first radius lens 1\n",
    "R21 = 500  #second radius lens 1\n",
    "n1 = 1.5\n",
    "\n",
    "lensHeight2 = 175\n",
    "f2 = 80    # mm\n",
    "R12 = 95 #first radius lens 2 \n",
    "R22 = 300  #second radius lens 2  \n",
    "n2 = 2.5\n",
    "\n",
    "# Example usage\n",
    "array,vertices = generate_lens(\n",
    "    array_height=sceneHeight,\n",
    "    array_width=sceneWidth,\n",
    "    rad1=R11,\n",
    "    rad2= R21,\n",
    "    cx = lens1X,\n",
    "    cy = int(sceneHeight/2),\n",
    "    clength = lensHeight1\n",
    ")\n",
    "\n",
    "thickness1 = -vertices[0] + vertices[1]\n",
    "print(\"lens 1 vertices: \",vertices,\" thickness: \", thickness1)\n",
    "\n",
    "\n",
    "array2,vertices2 = generate_lens(\n",
    "    array_height = sceneHeight,\n",
    "    array_width= sceneWidth,\n",
    "    rad1= R12,\n",
    "    rad2= R22,\n",
    "    cx =int(sceneWidth * .5),\n",
    "    cy = int(sceneHeight/2),\n",
    "    clength = lensHeight2\n",
    ")\n",
    "\n",
    "thickness2 = -vertices2[0] + vertices2[1]\n",
    "print(\"lens 2 vertices: \",vertices2,\" thickness: \", thickness2) \n",
    "\n",
    "R11solve = solve_R1(f1, R21, thickness1, n1)\n",
    "R12solve = solve_R1(f2,R22, thickness2, n2)\n",
    "print(f\"Solved R11: {R11solve:.3f} \")\n",
    "print(f\"solved R12: {R12solve:.3f} \")\n",
    "\n",
    "prinPoints = principlePoints(n1,f1,thickness1,R11,R12,vertices[0],vertices[1])\n",
    "prinPoints2 = principlePoints(n2,f2,thickness2,R12,R22,vertices2[0],vertices2[1])\n",
    "\n",
    "#the location where the second lenses front principle point should fall\n",
    "targetLoc = prinPoints[1] + f1 + f2\n",
    "print(prinPoints[1])\n",
    "print(targetLoc)\n",
    "#where the second lenses principle point actually falls\n",
    "actualLoc = prinPoints2[0]\n",
    "array2 = np.roll(array2,targetLoc - actualLoc,axis = 1)\n",
    "\n",
    "#final lens array with index of refraction applied\n",
    "lensArr = array*n1*100 + array2*n2*100\n",
    "\n",
    "# lensArr[lensArr == 0] = 100\n",
    "# ax = plt.hist(lensArr[lensArr != 100].flatten(), bins = 50)\n",
    "plt.imshow(lensArr)\n",
    "# plt.imshow(lensArr)\n",
    "# plt.title('Single Circular Segment')\n",
    "# plt.axis('off')\n",
    "# plt.show()\n"
   ]
  },
  {
   "cell_type": "code",
   "execution_count": 92,
   "id": "da30cd02",
   "metadata": {},
   "outputs": [
    {
     "data": {
      "image/png": "[encoded data removed]",
      "text/plain": [
       "<Figure size 640x480 with 1 Axes>"
      ]
     },
     "metadata": {},
     "output_type": "display_data"
    }
   ],
   "source": [
    "scene = aperture(height = sceneHeight,\\\n",
    "    width = sceneWidth,\n",
    "    apHorz = lens1X,\n",
    "    apVert = int(sceneHeight/2),\n",
    "    apWidth = 20,\n",
    "    apRad = int(lensHeight1/2))\n",
    "\n",
    "#set the refractive indices of the scene\n",
    "scene[:,:,0] = lensArr\n",
    "\n",
    "plt.imshow(scene)\n",
    "image = Image.fromarray(scene)\n",
    "image.save(\"test.png\")\n",
    "\n",
    "\n",
    "\n"
   ]
  },
  {
   "cell_type": "code",
   "execution_count": null,
   "id": "8f8d978a",
   "metadata": {},
   "outputs": [],
   "source": []
  }
 ],
 "metadata": {
  "kernelspec": {
   "display_name": "Python 3",
   "language": "python",
   "name": "python3"
  },
  "language_info": {
   "codemirror_mode": {
    "name": "ipython",
    "version": 3
   },
   "file_extension": ".py",
   "mimetype": "text/x-python",
   "name": "python",
   "nbconvert_exporter": "python",
   "pygments_lexer": "ipython3",
   "version": "3.11.9"
  }
 },
 "nbformat": 4,
 "nbformat_minor": 5
}
